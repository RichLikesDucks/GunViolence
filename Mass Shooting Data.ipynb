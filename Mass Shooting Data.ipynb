{
 "cells": [
  {
   "cell_type": "code",
   "execution_count": 277,
   "metadata": {
    "collapsed": true
   },
   "outputs": [],
   "source": [
    "import csv as csv\n",
    "import pandas as pd\n",
    "import numpy as np\n",
    "import matplotlib.pyplot as plt\n",
    "%matplotlib inline"
   ]
  },
  {
   "cell_type": "code",
   "execution_count": 234,
   "metadata": {
    "collapsed": true
   },
   "outputs": [],
   "source": [
    "#loading the data\n",
    "data = pd.read_csv('mass_shootings.csv')"
   ]
  },
  {
   "cell_type": "code",
   "execution_count": 235,
   "metadata": {
    "collapsed": false
   },
   "outputs": [
    {
     "data": {
      "text/html": [
       "<div>\n",
       "<table border=\"1\" class=\"dataframe\">\n",
       "  <thead>\n",
       "    <tr style=\"text-align: right;\">\n",
       "      <th></th>\n",
       "      <th>Case</th>\n",
       "      <th>Location</th>\n",
       "      <th>Date</th>\n",
       "      <th>Year</th>\n",
       "      <th>Summary</th>\n",
       "      <th>Fatalities</th>\n",
       "      <th>Injured</th>\n",
       "      <th>Total victims</th>\n",
       "      <th>Venue</th>\n",
       "      <th>Prior signs of mental health issues</th>\n",
       "      <th>...</th>\n",
       "      <th>Where obtained</th>\n",
       "      <th>Type of weapons</th>\n",
       "      <th>Weapon details</th>\n",
       "      <th>Race</th>\n",
       "      <th>Gender</th>\n",
       "      <th>Sources</th>\n",
       "      <th>Mental Health Sources</th>\n",
       "      <th>latitude</th>\n",
       "      <th>longitude</th>\n",
       "      <th>Type</th>\n",
       "    </tr>\n",
       "  </thead>\n",
       "  <tbody>\n",
       "    <tr>\n",
       "      <th>0</th>\n",
       "      <td>Yountville veterans home shooting</td>\n",
       "      <td>Yountville, CA</td>\n",
       "      <td>3/9/18</td>\n",
       "      <td>2018</td>\n",
       "      <td>Army veteran Albert Cheung Wong, 36, stormed a...</td>\n",
       "      <td>3</td>\n",
       "      <td>0</td>\n",
       "      <td>3</td>\n",
       "      <td>Workplace</td>\n",
       "      <td>Yes</td>\n",
       "      <td>...</td>\n",
       "      <td>TBD</td>\n",
       "      <td>semiautomatic rifle; shotgun</td>\n",
       "      <td>NaN</td>\n",
       "      <td>Asian</td>\n",
       "      <td>M</td>\n",
       "      <td>https://www.cnn.com/2018/03/10/us/california-v...</td>\n",
       "      <td>https://www.cnn.com/2018/03/10/us/california-v...</td>\n",
       "      <td>NaN</td>\n",
       "      <td>NaN</td>\n",
       "      <td>Mass</td>\n",
       "    </tr>\n",
       "    <tr>\n",
       "      <th>1</th>\n",
       "      <td>Stoneman Douglas High School shooting</td>\n",
       "      <td>Parkland, Florida</td>\n",
       "      <td>2/14/18</td>\n",
       "      <td>2018</td>\n",
       "      <td>Nikolas J. Cruz, 19, heavily armed with an AR-...</td>\n",
       "      <td>17</td>\n",
       "      <td>14</td>\n",
       "      <td>31</td>\n",
       "      <td>School</td>\n",
       "      <td>Yes</td>\n",
       "      <td>...</td>\n",
       "      <td>A Florida pawn shop</td>\n",
       "      <td>semiautomatic rifle</td>\n",
       "      <td>AR-15</td>\n",
       "      <td>White</td>\n",
       "      <td>M</td>\n",
       "      <td>https://www.nytimes.com/2018/02/14/us/parkland...</td>\n",
       "      <td>https://www.nytimes.com/2018/02/15/us/nikolas-...</td>\n",
       "      <td>NaN</td>\n",
       "      <td>NaN</td>\n",
       "      <td>Mass</td>\n",
       "    </tr>\n",
       "    <tr>\n",
       "      <th>2</th>\n",
       "      <td>Pennsylvania carwash shooting</td>\n",
       "      <td>Melcroft, PA</td>\n",
       "      <td>1/28/18</td>\n",
       "      <td>2018</td>\n",
       "      <td>Timothy O'Brien Smith, 28, wearing body armor ...</td>\n",
       "      <td>4</td>\n",
       "      <td>1</td>\n",
       "      <td>5</td>\n",
       "      <td>Other</td>\n",
       "      <td>TBD</td>\n",
       "      <td>...</td>\n",
       "      <td>TBD</td>\n",
       "      <td>semiautomatic rifle and semiautomatic handgun</td>\n",
       "      <td>NaN</td>\n",
       "      <td>White</td>\n",
       "      <td>M</td>\n",
       "      <td>http://www.wpxi.com/news/top-stories/family-me...</td>\n",
       "      <td>NaN</td>\n",
       "      <td>NaN</td>\n",
       "      <td>NaN</td>\n",
       "      <td>Mass</td>\n",
       "    </tr>\n",
       "    <tr>\n",
       "      <th>3</th>\n",
       "      <td>Rancho Tehama shooting spree</td>\n",
       "      <td>Rancho Tehama, CA</td>\n",
       "      <td>11/14/17</td>\n",
       "      <td>2017</td>\n",
       "      <td>Kevin Janson Neal, 44, went on an approximatel...</td>\n",
       "      <td>5</td>\n",
       "      <td>10</td>\n",
       "      <td>15</td>\n",
       "      <td>Other</td>\n",
       "      <td>TBD</td>\n",
       "      <td>...</td>\n",
       "      <td>TBD</td>\n",
       "      <td>semiautomatic rifles</td>\n",
       "      <td>Two illegally modified rifles</td>\n",
       "      <td>White</td>\n",
       "      <td>M</td>\n",
       "      <td>https://www.nbcnews.com/news/us-news/californi...</td>\n",
       "      <td>NaN</td>\n",
       "      <td>NaN</td>\n",
       "      <td>NaN</td>\n",
       "      <td>Spree</td>\n",
       "    </tr>\n",
       "    <tr>\n",
       "      <th>4</th>\n",
       "      <td>Texas First Baptist Church massacre</td>\n",
       "      <td>Sutherland Springs, TX</td>\n",
       "      <td>11/5/17</td>\n",
       "      <td>2017</td>\n",
       "      <td>Devin Patrick Kelley, a 26-year-old ex-US Air ...</td>\n",
       "      <td>26</td>\n",
       "      <td>20</td>\n",
       "      <td>46+</td>\n",
       "      <td>Religious</td>\n",
       "      <td>Yes</td>\n",
       "      <td>...</td>\n",
       "      <td>Purchased in April 2016 from an Academy Sports...</td>\n",
       "      <td>semiautomatic rifle</td>\n",
       "      <td>Ruger AR-556; Kelley also possessed semiautoma...</td>\n",
       "      <td>White</td>\n",
       "      <td>M</td>\n",
       "      <td>https://www.washingtonpost.com/news/morning-mi...</td>\n",
       "      <td>http://www.expressnews.com/news/local/article/...</td>\n",
       "      <td>32.780105</td>\n",
       "      <td>-96.800008</td>\n",
       "      <td>Mass</td>\n",
       "    </tr>\n",
       "  </tbody>\n",
       "</table>\n",
       "<p>5 rows × 22 columns</p>\n",
       "</div>"
      ],
      "text/plain": [
       "                                    Case                Location      Date  \\\n",
       "0      Yountville veterans home shooting          Yountville, CA    3/9/18   \n",
       "1  Stoneman Douglas High School shooting       Parkland, Florida   2/14/18   \n",
       "2          Pennsylvania carwash shooting            Melcroft, PA   1/28/18   \n",
       "3           Rancho Tehama shooting spree       Rancho Tehama, CA  11/14/17   \n",
       "4    Texas First Baptist Church massacre  Sutherland Springs, TX   11/5/17   \n",
       "\n",
       "   Year                                            Summary  Fatalities  \\\n",
       "0  2018  Army veteran Albert Cheung Wong, 36, stormed a...           3   \n",
       "1  2018  Nikolas J. Cruz, 19, heavily armed with an AR-...          17   \n",
       "2  2018  Timothy O'Brien Smith, 28, wearing body armor ...           4   \n",
       "3  2017  Kevin Janson Neal, 44, went on an approximatel...           5   \n",
       "4  2017  Devin Patrick Kelley, a 26-year-old ex-US Air ...          26   \n",
       "\n",
       "  Injured Total victims      Venue Prior signs of mental health issues  ...    \\\n",
       "0       0             3  Workplace                                 Yes  ...     \n",
       "1      14            31     School                                 Yes  ...     \n",
       "2       1             5      Other                                 TBD  ...     \n",
       "3      10            15      Other                                 TBD  ...     \n",
       "4      20           46+  Religious                                 Yes  ...     \n",
       "\n",
       "                                      Where obtained  \\\n",
       "0                                                TBD   \n",
       "1                                A Florida pawn shop   \n",
       "2                                                TBD   \n",
       "3                                                TBD   \n",
       "4  Purchased in April 2016 from an Academy Sports...   \n",
       "\n",
       "                                 Type of weapons  \\\n",
       "0                   semiautomatic rifle; shotgun   \n",
       "1                            semiautomatic rifle   \n",
       "2  semiautomatic rifle and semiautomatic handgun   \n",
       "3                           semiautomatic rifles   \n",
       "4                            semiautomatic rifle   \n",
       "\n",
       "                                      Weapon details   Race Gender  \\\n",
       "0                                                NaN  Asian      M   \n",
       "1                                              AR-15  White      M   \n",
       "2                                                NaN  White      M   \n",
       "3                      Two illegally modified rifles  White      M   \n",
       "4  Ruger AR-556; Kelley also possessed semiautoma...  White      M   \n",
       "\n",
       "                                             Sources  \\\n",
       "0  https://www.cnn.com/2018/03/10/us/california-v...   \n",
       "1  https://www.nytimes.com/2018/02/14/us/parkland...   \n",
       "2  http://www.wpxi.com/news/top-stories/family-me...   \n",
       "3  https://www.nbcnews.com/news/us-news/californi...   \n",
       "4  https://www.washingtonpost.com/news/morning-mi...   \n",
       "\n",
       "                               Mental Health Sources   latitude  longitude  \\\n",
       "0  https://www.cnn.com/2018/03/10/us/california-v...        NaN        NaN   \n",
       "1  https://www.nytimes.com/2018/02/15/us/nikolas-...        NaN        NaN   \n",
       "2                                                NaN        NaN        NaN   \n",
       "3                                                NaN        NaN        NaN   \n",
       "4  http://www.expressnews.com/news/local/article/...  32.780105 -96.800008   \n",
       "\n",
       "    Type  \n",
       "0   Mass  \n",
       "1   Mass  \n",
       "2   Mass  \n",
       "3  Spree  \n",
       "4   Mass  \n",
       "\n",
       "[5 rows x 22 columns]"
      ]
     },
     "execution_count": 235,
     "metadata": {},
     "output_type": "execute_result"
    }
   ],
   "source": [
    "data.head()"
   ]
  },
  {
   "cell_type": "code",
   "execution_count": 236,
   "metadata": {
    "collapsed": false
   },
   "outputs": [],
   "source": [
    "#group by year to find total fatalities \n",
    "yr_tot_fatal = data.groupby([\"Year\"])['Fatalities'].sum()\n",
    "yr_tot = data.groupby([\"Year\"])['Fatalities'].count()"
   ]
  },
  {
   "cell_type": "code",
   "execution_count": 237,
   "metadata": {
    "collapsed": false
   },
   "outputs": [
    {
     "data": {
      "text/plain": [
       "24"
      ]
     },
     "execution_count": 237,
     "metadata": {},
     "output_type": "execute_result"
    }
   ],
   "source": [
    "data['Fatalities'][data['Year'] == 2018].sum()"
   ]
  },
  {
   "cell_type": "code",
   "execution_count": 238,
   "metadata": {
    "collapsed": false
   },
   "outputs": [],
   "source": [
    "shootings = []\n",
    "fatalities = []\n",
    "for i in range(1982,2019):\n",
    "    num = data['Case'][data['Year'] == i].count()\n",
    "    vic = data['Fatalities'][data['Year'] == i].sum()\n",
    "    shootings.append(num)\n",
    "    fatalities.append(vic)\n",
    "    \n",
    "    "
   ]
  },
  {
   "cell_type": "code",
   "execution_count": 239,
   "metadata": {
    "collapsed": false
   },
   "outputs": [
    {
     "data": {
      "image/png": "[encoded data removed]",
      "text/plain": [
       "<matplotlib.figure.Figure at 0x10f2bc250>"
      ]
     },
     "metadata": {},
     "output_type": "display_data"
    }
   ],
   "source": [
    "#bar graph for fatalities \n",
    "\n",
    "N = len(shootings)\n",
    "\n",
    "fat = fatalities\n",
    "tot = shootings\n",
    "\n",
    "years = range(1982,2019)\n",
    "\n",
    "ind = np.arange(N)  # the x locations for the groups\n",
    "width = 0.35 #width of bars\n",
    "\n",
    "fig, ax = plt.subplots()\n",
    "\n",
    "g1 = ax.bar(ind, fat, width, color = 'r')\n",
    "\n",
    "# add some text for labels, title and axes ticks\n",
    "ax.set_ylabel('Number')\n",
    "ax.set_title('Fatalities 1982-2018')\n",
    "ax.set_xticks(ind + width / 2)\n",
    "ax.set_xticklabels(years, rotation = 90)\n",
    "\n",
    "ax.set_xlabel('Year')\n",
    "\n",
    "\n",
    "plt.show()"
   ]
  },
  {
   "cell_type": "code",
   "execution_count": 240,
   "metadata": {
    "collapsed": false,
    "scrolled": true
   },
   "outputs": [
    {
     "data": {
      "image/png": "[encoded data removed]",
      "text/plain": [
       "<matplotlib.figure.Figure at 0x10f254f10>"
      ]
     },
     "metadata": {},
     "output_type": "display_data"
    }
   ],
   "source": [
    "#bar graph for fatalities \n",
    "\n",
    "N = len(shootings)\n",
    "\n",
    "fat = fatalities\n",
    "tot = shootings\n",
    "\n",
    "years = range(1982,2019)\n",
    "\n",
    "ind = np.arange(N)  # the x locations for the groups\n",
    "width = 0.35 #width of bars\n",
    "\n",
    "fig, ax = plt.subplots()\n",
    "\n",
    "#g1 = ax.bar(ind, fat, width, color = 'r')\n",
    "g2 = ax.bar(ind, tot, width, color = 'g')\n",
    "\n",
    "# add some text for labels, title and axes ticks\n",
    "ax.set_ylabel('Number')\n",
    "ax.set_title('Shootings 1982-2018')\n",
    "ax.set_xticks(ind + width / 2)\n",
    "ax.set_xticklabels(years, rotation = 90)\n",
    "\n",
    "ax.set_xlabel('Year')\n",
    "\n",
    "#ax.legend((g1[0], g2[0]), ('Fatalities', 'Shootings'), loc = 'upper left')\n",
    "\n",
    "plt.show()"
   ]
  },
  {
   "cell_type": "code",
   "execution_count": 241,
   "metadata": {
    "collapsed": false
   },
   "outputs": [
    {
     "data": {
      "image/png": "[encoded data removed]",
      "text/plain": [
       "<matplotlib.figure.Figure at 0x10f295990>"
      ]
     },
     "metadata": {},
     "output_type": "display_data"
    }
   ],
   "source": [
    "#bar graph for fatalities \n",
    "\n",
    "N = len(shootings)\n",
    "\n",
    "fat = fatalities\n",
    "tot = shootings\n",
    "\n",
    "years = range(1982,2019)\n",
    "\n",
    "ind = np.arange(N)  # the x locations for the groups\n",
    "width = 0.35 #width of bars\n",
    "\n",
    "fig, ax = plt.subplots()\n",
    "\n",
    "g1 = ax.bar(ind, fat, width, color = 'r')\n",
    "g2 = ax.bar(ind, tot, width, color = 'g')\n",
    "\n",
    "# add some text for labels, title and axes ticks\n",
    "ax.set_ylabel('Number')\n",
    "ax.set_title('Shootings 1982-2018')\n",
    "ax.set_xticks(ind + width / 2)\n",
    "ax.set_xticklabels(years, rotation = 90)\n",
    "\n",
    "ax.set_xlabel('Year')\n",
    "\n",
    "ax.legend((g1[0], g2[0]), ('Fatalities', 'Shootings'), loc = 'upper left')\n",
    "\n",
    "plt.show()"
   ]
  },
  {
   "cell_type": "code",
   "execution_count": 242,
   "metadata": {
    "collapsed": false
   },
   "outputs": [
    {
     "data": {
      "text/plain": [
       "array(['Yes', 'TBD', 'No',\n",
       "       'Kelley passed federal criminal background checks; the US Air Force failed to provide information on his criminal history to the FBI',\n",
       "       'Unknown', '\\nYes',\n",
       "       'Yes (\"some of the weapons were purchased legally and some of them may not have been\")',\n",
       "       'Yes '], dtype=object)"
      ]
     },
     "execution_count": 242,
     "metadata": {},
     "output_type": "execute_result"
    }
   ],
   "source": [
    "#unique outputs for this feature\n",
    "how = data['Weapons obtained legally'].unique()\n",
    "how"
   ]
  },
  {
   "cell_type": "code",
   "execution_count": 243,
   "metadata": {
    "collapsed": false
   },
   "outputs": [],
   "source": [
    "#fix up the messy data to make all 'yes' the same\n",
    "data['Weapons obtained legally'] = data['Weapons obtained legally'].replace('Yes ', 'Yes')\n",
    "data['Weapons obtained legally'] = data['Weapons obtained legally'].replace('\\nYes', 'Yes')"
   ]
  },
  {
   "cell_type": "code",
   "execution_count": 244,
   "metadata": {
    "collapsed": false
   },
   "outputs": [
    {
     "data": {
      "text/plain": [
       "array(['Yes', 'TBD', 'No',\n",
       "       'Kelley passed federal criminal background checks; the US Air Force failed to provide information on his criminal history to the FBI',\n",
       "       'Unknown',\n",
       "       'Yes (\"some of the weapons were purchased legally and some of them may not have been\")'], dtype=object)"
      ]
     },
     "execution_count": 244,
     "metadata": {},
     "output_type": "execute_result"
    }
   ],
   "source": [
    "how = data['Weapons obtained legally'].unique()\n",
    "how"
   ]
  },
  {
   "cell_type": "code",
   "execution_count": 245,
   "metadata": {
    "collapsed": false
   },
   "outputs": [],
   "source": [
    "yes = data['Case'][data['Weapons obtained legally'] == 'Yes'].count()\n",
    "no = data['Case'][data['Weapons obtained legally'] == 'No'].count()\n",
    "unknown =  data['Case'][data['Weapons obtained legally'] == 'Unknown'].count()"
   ]
  },
  {
   "cell_type": "code",
   "execution_count": 246,
   "metadata": {
    "collapsed": false
   },
   "outputs": [
    {
     "name": "stdout",
     "output_type": "stream",
     "text": [
      "69\n",
      "15\n",
      "6\n"
     ]
    }
   ],
   "source": [
    "print yes\n",
    "print no\n",
    "print unknown"
   ]
  },
  {
   "cell_type": "code",
   "execution_count": 278,
   "metadata": {
    "collapsed": false
   },
   "outputs": [
    {
     "data": {
      "image/png": "[encoded data removed]",
      "text/plain": [
       "<matplotlib.figure.Figure at 0x10fa14d50>"
      ]
     },
     "metadata": {},
     "output_type": "display_data"
    }
   ],
   "source": [
    "#bar graph for fatalities \n",
    "\n",
    "N = 3\n",
    "\n",
    "ind = np.arange(N)  # the x locations for the groups\n",
    "width = 0.8 #width of bars\n",
    "\n",
    "fig, ax = plt.subplots()\n",
    "\n",
    "g1 = ax.bar(ind, y, width, color = 'g')\n",
    "\n",
    "# add some text for labels, title and axes ticks\n",
    "ax.set_ylabel('Shootings')\n",
    "ax.set_title('Weapons Obtained Legally?')\n",
    "ax.set_xticks(ind + width / 2)\n",
    "ax.set_xticklabels(('Yes', 'No', 'Unknown'))\n",
    "\n",
    "\n",
    "\n",
    "plt.show()"
   ]
  },
  {
   "cell_type": "code",
   "execution_count": 248,
   "metadata": {
    "collapsed": false
   },
   "outputs": [
    {
     "data": {
      "text/plain": [
       "array(['Asian', 'White', 'Black', nan, 'Latino', 'Other', 'White ',\n",
       "       'Native American', 'white', 'black', 'unclear'], dtype=object)"
      ]
     },
     "execution_count": 248,
     "metadata": {},
     "output_type": "execute_result"
    }
   ],
   "source": [
    "data['Race'].unique()"
   ]
  },
  {
   "cell_type": "code",
   "execution_count": 249,
   "metadata": {
    "collapsed": false
   },
   "outputs": [],
   "source": [
    "data['Race'] = data['Race'].replace('White ', 'White')\n",
    "data['Race'] = data['Race'].replace('white', 'White')\n",
    "data1 = data['Race'].dropna()\n",
    "eth = data1.unique()"
   ]
  },
  {
   "cell_type": "code",
   "execution_count": 250,
   "metadata": {
    "collapsed": false
   },
   "outputs": [
    {
     "data": {
      "text/plain": [
       "8"
      ]
     },
     "execution_count": 250,
     "metadata": {},
     "output_type": "execute_result"
    }
   ],
   "source": [
    "len(eth)"
   ]
  },
  {
   "cell_type": "code",
   "execution_count": 251,
   "metadata": {
    "collapsed": false
   },
   "outputs": [
    {
     "data": {
      "text/plain": [
       "[8, 56, 7, 7, 5, 3, 9, 1]"
      ]
     },
     "execution_count": 251,
     "metadata": {},
     "output_type": "execute_result"
    }
   ],
   "source": [
    "eth_count = []\n",
    "for i in range(0,len(eth)):\n",
    "    count = data['Case'][data['Race'] == eth[i]].count()\n",
    "    eth_count.append(count)\n",
    "        \n",
    "eth_count\n",
    "        "
   ]
  },
  {
   "cell_type": "code",
   "execution_count": 252,
   "metadata": {
    "collapsed": false
   },
   "outputs": [
    {
     "data": {
      "image/png": "[encoded data removed]",
      "text/plain": [
       "<matplotlib.figure.Figure at 0x10f9acb50>"
      ]
     },
     "metadata": {},
     "output_type": "display_data"
    }
   ],
   "source": [
    "#bar graph for fatalities \n",
    "\n",
    "N = len(eth)\n",
    "\n",
    "ind = np.arange(N)  # the x locations for the groups\n",
    "width = 0.8 #width of bars\n",
    "\n",
    "fig, ax = plt.subplots()\n",
    "\n",
    "g1 = ax.bar(ind, eth_count, width, color = 'b')\n",
    "\n",
    "# add some text for labels, title and axes ticks\n",
    "ax.set_ylabel('Number')\n",
    "ax.set_title('Race of Shooter')\n",
    "ax.set_xticks(ind + width / 2)\n",
    "ax.set_xticklabels(eth, rotation = 45)\n",
    "\n",
    "\n",
    "\n",
    "plt.show()"
   ]
  },
  {
   "cell_type": "code",
   "execution_count": 253,
   "metadata": {
    "collapsed": false
   },
   "outputs": [
    {
     "data": {
      "text/plain": [
       "array(['M', 'Male & Female', 'Male', 'Female'], dtype=object)"
      ]
     },
     "execution_count": 253,
     "metadata": {},
     "output_type": "execute_result"
    }
   ],
   "source": [
    "data['Gender'].unique()"
   ]
  },
  {
   "cell_type": "code",
   "execution_count": 255,
   "metadata": {
    "collapsed": true
   },
   "outputs": [],
   "source": [
    "data['Gender'] = data['Gender'].replace('M', 'Male')\n",
    "sex = data['Gender'].unique()"
   ]
  },
  {
   "cell_type": "code",
   "execution_count": 256,
   "metadata": {
    "collapsed": false
   },
   "outputs": [
    {
     "data": {
      "text/plain": [
       "[95, 1, 2]"
      ]
     },
     "execution_count": 256,
     "metadata": {},
     "output_type": "execute_result"
    }
   ],
   "source": [
    "gen_count = []\n",
    "for i in range(0,len(sex)):\n",
    "    count = data['Case'][data['Gender'] == sex[i]].count()\n",
    "    gen_count.append(count)\n",
    "        \n",
    "gen_count\n",
    "        "
   ]
  },
  {
   "cell_type": "code",
   "execution_count": 262,
   "metadata": {
    "collapsed": false
   },
   "outputs": [
    {
     "data": {
      "image/png": "[encoded data removed]",
      "text/plain": [
       "<matplotlib.figure.Figure at 0x10fa2dd90>"
      ]
     },
     "metadata": {},
     "output_type": "display_data"
    }
   ],
   "source": [
    "#bar graph for fatalities \n",
    "\n",
    "N = len(sex)\n",
    "\n",
    "ind = np.arange(N)  # the x locations for the groups\n",
    "width = 0.8 #width of bars\n",
    "\n",
    "fig, ax = plt.subplots()\n",
    "\n",
    "g1 = ax.bar(ind, gen_count, width, color = 'red')\n",
    "\n",
    "# add some text for labels, title and axes ticks\n",
    "ax.set_ylabel('Number')\n",
    "ax.set_title('Gender of Shooter')\n",
    "ax.set_xticks(ind + width / 2)\n",
    "ax.set_xticklabels(sex, rotation = 0)\n",
    "\n",
    "\n",
    "\n",
    "plt.show()"
   ]
  },
  {
   "cell_type": "code",
   "execution_count": 274,
   "metadata": {
    "collapsed": false
   },
   "outputs": [
    {
     "name": "stdout",
     "output_type": "stream",
     "text": [
      "Number of shootings since 2010: 46\n"
     ]
    }
   ],
   "source": [
    "since10 = len(data['Case'][data['Year'] > 2010])\n",
    "print (\"Number of shootings since 2010: %d\" %since10)"
   ]
  },
  {
   "cell_type": "code",
   "execution_count": 276,
   "metadata": {
    "collapsed": false
   },
   "outputs": [
    {
     "name": "stdout",
     "output_type": "stream",
     "text": [
      "Number of fatalities since 2010: 401\n"
     ]
    }
   ],
   "source": [
    "#wikipedia article states 100 fatalities in 8 attacks that killed more than 4\n",
    "'''https://en.wikipedia.org/wiki/Terrorism_in_the_United_States#2010%E2%80%93present'''\n",
    "fatal10 = data['Fatalities'][data['Year'] > 2010].sum()\n",
    "print (\"Number of fatalities since 2010: %d\" %fatal10)"
   ]
  },
  {
   "cell_type": "code",
   "execution_count": null,
   "metadata": {
    "collapsed": true
   },
   "outputs": [],
   "source": [
    "#overlap of 83 fatalities from 5 attacks\n",
    "#number with that removed is 318 dead over 41 attacks"
   ]
  }
 ],
 "metadata": {
  "anaconda-cloud": {},
  "kernelspec": {
   "display_name": "Python [default]",
   "language": "python",
   "name": "python2"
  },
  "language_info": {
   "codemirror_mode": {
    "name": "ipython",
    "version": 2
   },
   "file_extension": ".py",
   "mimetype": "text/x-python",
   "name": "python",
   "nbconvert_exporter": "python",
   "pygments_lexer": "ipython2",
   "version": "2.7.12"
  }
 },
 "nbformat": 4,
 "nbformat_minor": 1
}
